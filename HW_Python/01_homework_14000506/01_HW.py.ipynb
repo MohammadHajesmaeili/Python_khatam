{
 "cells": [
  {
   "cell_type": "markdown",
   "metadata": {
    "collapsed": false,
    "pycharm": {
     "name": "#%% md\n"
    }
   },
   "source": [
    "# 1. Classify each of the following as either a legal or illegal Python identifier:\n",
    "1. fred\n",
    "2. if\n",
    "3. 2x\n",
    "4. -4\n",
    "5. sum_total\n",
    "6. sumTotal\n",
    "7. sum-total\n",
    "8. sum total\n",
    "9. sumtotal\n",
    "10. While\n",
    "11. x2\n",
    "12. Private\n",
    "13. public\n",
    "14. $16\n",
    "15. xTwo\n",
    "16. _static\n",
    "17. _4\n",
    "18. `___`\n",
    "19. 10%\n",
    "20. a27834\n",
    "21. wilma’s"
   ]
  },
  {
   "cell_type": "code",
   "execution_count": 1,
   "metadata": {
    "collapsed": false,
    "pycharm": {
     "name": "#%%\n"
    }
   },
   "outputs": [
    {
     "data": {
      "text/plain": [
       "21"
      ]
     },
     "execution_count": 1,
     "metadata": {},
     "output_type": "execute_result"
    }
   ],
   "source": [
    "illigibal=2;3;4;7;8;14;19;21"
   ]
  },
  {
   "cell_type": "markdown",
   "metadata": {
    "collapsed": false,
    "pycharm": {
     "name": "#%% md\n"
    }
   },
   "source": [
    "# 2. What is wrong with the following statement that attempts to assign the value ten to variable x?\n",
    "> 10 = x"
   ]
  },
  {
   "cell_type": "code",
   "execution_count": 24,
   "metadata": {
    "collapsed": false,
    "pycharm": {
     "name": "#%%\n"
    }
   },
   "outputs": [
    {
     "data": {
      "text/plain": [
       "'نبايد به عدد مفدار داد '"
      ]
     },
     "execution_count": 24,
     "metadata": {},
     "output_type": "execute_result"
    }
   ],
   "source": [
    "'نبايد به عدد مفدار داد '"
   ]
  },
  {
   "cell_type": "markdown",
   "metadata": {
    "collapsed": false,
    "pycharm": {
     "name": "#%% md\n"
    }
   },
   "source": [
    "# 3. Is \"i\" a string literal or variable?"
   ]
  },
  {
   "cell_type": "code",
   "execution_count": 23,
   "metadata": {
    "collapsed": false,
    "pycharm": {
     "name": "#%%\n"
    }
   },
   "outputs": [
    {
     "name": "stdout",
     "output_type": "stream",
     "text": [
      "<class 'str'>\n"
     ]
    }
   ],
   "source": [
    "print(type(\"i\"))"
   ]
  },
  {
   "cell_type": "markdown",
   "metadata": {
    "collapsed": false,
    "pycharm": {
     "name": "#%% md\n"
    }
   },
   "source": [
    "# 4. Indicate what each of the following Python statements would print:\n",
    "> x = 2\n",
    "1. print(\"x\")\n",
    "2. print(’x’)\n",
    "3. print(x)\n",
    "4. print(\"x + 1\")\n",
    "5. print(’x’ + 1)\n",
    "6. print(x + 1)"
   ]
  },
  {
   "cell_type": "code",
   "execution_count": 22,
   "metadata": {
    "collapsed": false,
    "pycharm": {
     "name": "#%%\n"
    }
   },
   "outputs": [
    {
     "name": "stdout",
     "output_type": "stream",
     "text": [
      "x\n",
      "x\n",
      "2\n",
      "x + 1\n"
     ]
    },
    {
     "ename": "TypeError",
     "evalue": "can only concatenate str (not \"int\") to str",
     "output_type": "error",
     "traceback": [
      "\u001b[1;31m---------------------------------------------------------------------------\u001b[0m",
      "\u001b[1;31mTypeError\u001b[0m                                 Traceback (most recent call last)",
      "\u001b[1;32mc:\\Users\\Farhangian\\Desktop\\01_HW.pythone.ipynb Cell 8\u001b[0m in \u001b[0;36m<cell line: 6>\u001b[1;34m()\u001b[0m\n\u001b[0;32m      <a href='vscode-notebook-cell:/c%3A/Users/Farhangian/Desktop/01_HW.pythone.ipynb#ch0000007?line=3'>4</a>\u001b[0m \u001b[39mprint\u001b[39m(x)\n\u001b[0;32m      <a href='vscode-notebook-cell:/c%3A/Users/Farhangian/Desktop/01_HW.pythone.ipynb#ch0000007?line=4'>5</a>\u001b[0m \u001b[39mprint\u001b[39m(\u001b[39m\"\u001b[39m\u001b[39mx + 1\u001b[39m\u001b[39m\"\u001b[39m)\n\u001b[1;32m----> <a href='vscode-notebook-cell:/c%3A/Users/Farhangian/Desktop/01_HW.pythone.ipynb#ch0000007?line=5'>6</a>\u001b[0m \u001b[39mprint\u001b[39m(\u001b[39m'\u001b[39;49m\u001b[39mx\u001b[39;49m\u001b[39m'\u001b[39;49m \u001b[39m+\u001b[39;49m \u001b[39m1\u001b[39;49m)\n\u001b[0;32m      <a href='vscode-notebook-cell:/c%3A/Users/Farhangian/Desktop/01_HW.pythone.ipynb#ch0000007?line=6'>7</a>\u001b[0m \u001b[39mprint\u001b[39m(x \u001b[39m+\u001b[39m \u001b[39m1\u001b[39m)\n",
      "\u001b[1;31mTypeError\u001b[0m: can only concatenate str (not \"int\") to str"
     ]
    }
   ],
   "source": [
    "x=2\n",
    "print(\"x\")\n",
    "print('x')\n",
    "print(x)\n",
    "print(\"x + 1\")\n",
    "print('x' + 1)\n",
    "print(x + 1)"
   ]
  },
  {
   "cell_type": "markdown",
   "metadata": {
    "collapsed": false,
    "pycharm": {
     "name": "#%% md\n"
    }
   },
   "source": [
    "# 5. Given the following assignments:\n",
    "i1 = 2\n",
    "i2 = 5\n",
    "i3 = -3\n",
    "d1 = 2.0\n",
    "d2 = 5.0\n",
    "d3 = -0.5;\n",
    "# Evaluate each of the following Python expressions.\n",
    "1. i1 + i2\n",
    "2. i1 / i2\n",
    "3. i1 // i2\n",
    "4. i2 / i1\n",
    "5. i2 // i1\n",
    "6. i1 * i3\n",
    "7. d1 + d2\n",
    "8. d1 / d2\n",
    "9. d2 / d1\n",
    "10. d3 * d1\n",
    "11. d1 + i2\n",
    "12. i1 / d2\n",
    "13. d2 / i1\n",
    "14. i2 / d1\n",
    "15. i1/i2*d1\n",
    "16. d1*i1/i2\n",
    "17. d1/d2*i1\n",
    "18. i1*d1/d2\n",
    "19. i2/i1*d1\n",
    "20. d1*i2/i1\n",
    "21. d2/d1*i1\n",
    "22. i1*d2/d1"
   ]
  },
  {
   "cell_type": "code",
   "execution_count": 17,
   "metadata": {
    "collapsed": false,
    "pycharm": {
     "name": "#%%\n"
    }
   },
   "outputs": [
    {
     "name": "stdout",
     "output_type": "stream",
     "text": [
      "7 0.4 0 2.5 2 -6 7.0 0.4 2.5 -1.0 7.0 0.4 2.5 2.5 0.8 0.8 0.8 0.8 5.0 5.0 5.0 5.0\n"
     ]
    }
   ],
   "source": [
    "i1 = 2; i2 = 5; i3 = -3; d1 = 2.0; d2 = 5.0; d3 = -0.5;\n",
    "print(i1 + i2,i1 / i2,i1 // i2,i2 / i1,i2 // i1,i1 * i3,d1 + d2,d1 / d2,d2 / d1,d3 * d1,d1 + i2,i1 / d2,d2 / i1,i2 / d1,i1/i2*d1,d1*i1/i2,d1/d2*i1,i1*d1/d2,i2/i1*d1,d1*i2/i1,d2/d1*i1, i1*d2/d1)"
   ]
  },
  {
   "cell_type": "markdown",
   "metadata": {
    "collapsed": false,
    "pycharm": {
     "name": "#%% md\n"
    }
   },
   "source": [
    "# 6. Write the shortest way to express each of the following statements.\n",
    "1. x = x + 1\n",
    "2. x = x / 2\n",
    "3. x = x - 1\n",
    "4. x = x + y\n",
    "5. x = x - (y + 7)\n",
    "6. x = 2*x\n",
    "7. number_of_closed_cases = number_of_closed_cases + 2*ncc"
   ]
  },
  {
   "cell_type": "code",
   "execution_count": 14,
   "metadata": {
    "collapsed": false,
    "pycharm": {
     "name": "#%%\n"
    }
   },
   "outputs": [],
   "source": [
    "x=1;y=2;\n",
    "x+=1\n",
    "x/=2\n",
    "x-=1\n",
    "x+=y\n",
    "x-=y+7\n",
    "x*=2\n",
    "number_of_closed_cases=1;ncc=2; number_of_closed_cases+=2*ncc"
   ]
  },
  {
   "cell_type": "markdown",
   "metadata": {
    "collapsed": false,
    "pycharm": {
     "name": "#%% md\n"
    }
   },
   "source": [
    "# 7. Is the value -16 interpreted as True or False?"
   ]
  },
  {
   "cell_type": "code",
   "execution_count": 13,
   "metadata": {
    "collapsed": false,
    "pycharm": {
     "name": "#%%\n"
    }
   },
   "outputs": [
    {
     "name": "stdout",
     "output_type": "stream",
     "text": [
      "True\n"
     ]
    }
   ],
   "source": [
    "x=-16\n",
    "print(bool(x))"
   ]
  },
  {
   "cell_type": "markdown",
   "metadata": {
    "collapsed": false,
    "pycharm": {
     "name": "#%% md\n"
    }
   },
   "source": [
    "# 8. Given the following definitions:\n",
    "x, y, z = 3, 5, 7\n",
    "evaluate the following Boolean expressions:\n",
    "1. x == 3\n",
    "2. x < y\n",
    "3. x >= y\n",
    "4. x <= y\n",
    "5. x != y - 2\n",
    "6. x < 10\n",
    "7. x >= 0 and x < 10\n",
    "8. x < 0 and x < 10\n",
    "9. x >= 0 and x < 2\n",
    "10. x < 0 or x < 10\n",
    "11. x > 0 or x < 10\n",
    "12. x < 0 or x > 10"
   ]
  },
  {
   "cell_type": "code",
   "execution_count": 11,
   "metadata": {
    "collapsed": false,
    "pycharm": {
     "name": "#%%\n"
    }
   },
   "outputs": [
    {
     "name": "stdout",
     "output_type": "stream",
     "text": [
      "True\n",
      "True\n",
      "False\n",
      "True\n",
      "False\n",
      "True\n",
      "True\n",
      "False\n",
      "False\n",
      "True\n",
      "True\n",
      "False\n"
     ]
    }
   ],
   "source": [
    "x, y, z = 3, 5, 7\n",
    "print(x == 3 ,x < y ,x >= y ,x <= y,x != y - 2 ,x < 10 ,x >= 0 and x < 10 ,x < 0 and x < 10 ,\n",
    "x >= 0 and x < 2 ,x < 0 or x < 10 ,x > 0 or x < 10 ,x < 0 or x > 10 , sep=\"\\n\")"
   ]
  },
  {
   "cell_type": "markdown",
   "metadata": {
    "collapsed": false,
    "pycharm": {
     "name": "#%% md\n"
    }
   },
   "source": [
    "# 8. Write a Python program that requests an integer value from the user.\n",
    "* If the value is between 1 and 100 inclusive, print ”OK;” otherwise, do not print anything."
   ]
  },
  {
   "cell_type": "code",
   "execution_count": 6,
   "metadata": {
    "collapsed": false,
    "pycharm": {
     "name": "#%%\n"
    }
   },
   "outputs": [
    {
     "ename": "ValueError",
     "evalue": "invalid literal for int() with base 10: ''",
     "output_type": "error",
     "traceback": [
      "\u001b[1;31m---------------------------------------------------------------------------\u001b[0m",
      "\u001b[1;31mValueError\u001b[0m                                Traceback (most recent call last)",
      "\u001b[1;32mc:\\Users\\Farhangian\\Desktop\\01_HW.pythone.ipynb Cell 18\u001b[0m in \u001b[0;36m<cell line: 1>\u001b[1;34m()\u001b[0m\n\u001b[1;32m----> <a href='vscode-notebook-cell:/c%3A/Users/Farhangian/Desktop/01_HW.pythone.ipynb#ch0000017?line=0'>1</a>\u001b[0m x \u001b[39m=\u001b[39m \u001b[39mint\u001b[39;49m(\u001b[39minput\u001b[39;49m(\u001b[39m'\u001b[39;49m\u001b[39mEnter an integer number:\u001b[39;49m\u001b[39m'\u001b[39;49m))\n\u001b[0;32m      <a href='vscode-notebook-cell:/c%3A/Users/Farhangian/Desktop/01_HW.pythone.ipynb#ch0000017?line=1'>2</a>\u001b[0m \u001b[39mif\u001b[39;00m x \u001b[39m>\u001b[39m \u001b[39m1\u001b[39m \u001b[39mand\u001b[39;00m \u001b[39m100\u001b[39m \u001b[39m>\u001b[39m x:\n\u001b[0;32m      <a href='vscode-notebook-cell:/c%3A/Users/Farhangian/Desktop/01_HW.pythone.ipynb#ch0000017?line=2'>3</a>\u001b[0m   \u001b[39mprint\u001b[39m(\u001b[39m\"\u001b[39m\u001b[39mOK\u001b[39m\u001b[39m\"\u001b[39m)\n",
      "\u001b[1;31mValueError\u001b[0m: invalid literal for int() with base 10: ''"
     ]
    }
   ],
   "source": [
    "x = int(input('Enter an integer number:'))\n",
    "if x > 1 and 100 > x:\n",
    "  print(\"OK\")"
   ]
  },
  {
   "cell_type": "markdown",
   "metadata": {
    "collapsed": false,
    "pycharm": {
     "name": "#%% md\n"
    }
   },
   "source": [
    "# 9. Write a Python program that requests an integer value from the user.\n",
    "* If the value is between 1 and 100 inclusive, print ”OK;” otherwise, print ”Out of range.”"
   ]
  },
  {
   "cell_type": "code",
   "execution_count": 5,
   "metadata": {
    "collapsed": false,
    "pycharm": {
     "name": "#%%\n"
    }
   },
   "outputs": [
    {
     "ename": "ValueError",
     "evalue": "invalid literal for int() with base 10: ''",
     "output_type": "error",
     "traceback": [
      "\u001b[1;31m---------------------------------------------------------------------------\u001b[0m",
      "\u001b[1;31mValueError\u001b[0m                                Traceback (most recent call last)",
      "\u001b[1;32mc:\\Users\\Farhangian\\Desktop\\01_HW.pythone.ipynb Cell 20\u001b[0m in \u001b[0;36m<cell line: 1>\u001b[1;34m()\u001b[0m\n\u001b[1;32m----> <a href='vscode-notebook-cell:/c%3A/Users/Farhangian/Desktop/01_HW.pythone.ipynb#ch0000019?line=0'>1</a>\u001b[0m x \u001b[39m=\u001b[39m \u001b[39mint\u001b[39;49m(\u001b[39minput\u001b[39;49m(\u001b[39m'\u001b[39;49m\u001b[39mEnter an integer number:\u001b[39;49m\u001b[39m'\u001b[39;49m))\n\u001b[0;32m      <a href='vscode-notebook-cell:/c%3A/Users/Farhangian/Desktop/01_HW.pythone.ipynb#ch0000019?line=1'>2</a>\u001b[0m \u001b[39mif\u001b[39;00m x \u001b[39m>\u001b[39m \u001b[39m1\u001b[39m \u001b[39mand\u001b[39;00m \u001b[39m100\u001b[39m \u001b[39m>\u001b[39m x:\n\u001b[0;32m      <a href='vscode-notebook-cell:/c%3A/Users/Farhangian/Desktop/01_HW.pythone.ipynb#ch0000019?line=2'>3</a>\u001b[0m   \u001b[39mprint\u001b[39m(\u001b[39m\"\u001b[39m\u001b[39mOK\u001b[39m\u001b[39m\"\u001b[39m)\n",
      "\u001b[1;31mValueError\u001b[0m: invalid literal for int() with base 10: ''"
     ]
    }
   ],
   "source": [
    "x = int(input('Enter an integer number:'))\n",
    "if x > 1 and 100 > x:\n",
    "  print(\"OK\")\n",
    "else:\n",
    "  print(\"Out of range\")"
   ]
  },
  {
   "cell_type": "markdown",
   "metadata": {
    "collapsed": false,
    "pycharm": {
     "name": "#%% md\n"
    }
   },
   "source": [
    "# 10. Write a Python program that:\n",
    "* requests five integer values from the user.\n",
    "* It then prints the maximum and minimum values entered.\n",
    "* If the user enters the values 3, 2, 5, 0, and 1, the program would indicate that 5 is the maximum and 0 is the minimum.\n",
    "* Your program should handle ties properly; for example, if the user enters 2, 4 2, 3 and 3, the program should report 2 as the minimum and 4 as maximum."
   ]
  },
  {
   "cell_type": "code",
   "execution_count": 4,
   "metadata": {
    "collapsed": false,
    "pycharm": {
     "name": "#%%\n"
    }
   },
   "outputs": [
    {
     "name": "stdout",
     "output_type": "stream",
     "text": [
      "(5, 0)\n"
     ]
    }
   ],
   "source": [
    "def max_min(data):\n",
    "  l = data[0]\n",
    "  s = data[0]\n",
    "  for num in data:\n",
    "    if num> l:\n",
    "      l = num\n",
    "    elif num< s:\n",
    "        s = num\n",
    "  return l, s\n",
    "\n",
    "print(max_min([3, 0, 2, 4, 5]))"
   ]
  }
 ],
 "metadata": {
  "kernelspec": {
   "display_name": "Python 3.10.5 64-bit",
   "language": "python",
   "name": "python3"
  },
  "language_info": {
   "codemirror_mode": {
    "name": "ipython",
    "version": 2
   },
   "file_extension": ".py",
   "mimetype": "text/x-python",
   "name": "python",
   "nbconvert_exporter": "python",
   "pygments_lexer": "ipython2",
   "version": "3.10.5"
  },
  "vscode": {
   "interpreter": {
    "hash": "43753d63a98b2dacfc56e707d3a96f2f579f673c62916cb67568b2792d166f99"
   }
  }
 },
 "nbformat": 4,
 "nbformat_minor": 0
}
